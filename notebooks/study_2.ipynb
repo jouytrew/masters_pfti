{
 "cells": [
  {
   "cell_type": "code",
   "execution_count": 1,
   "metadata": {},
   "outputs": [],
   "source": [
    "import numpy as np\n",
    "import scipy.stats as st"
   ]
  },
  {
   "cell_type": "code",
   "execution_count": 2,
   "metadata": {},
   "outputs": [],
   "source": [
    "# Constants\n",
    "CONSTANT_lL = 0.15\n",
    "CONSTANT_Ld95 = 30\n",
    "\n",
    "CONSTANT_ma = 0.015\n",
    "CONSTANT_mr = 4.2\n",
    "CONSTANT_mt = 2.75\n",
    "\n",
    "CONSTANT_Cf = 0.5\n",
    "CONSTANT_Cg = 0.25"
   ]
  },
  {
   "cell_type": "code",
   "execution_count": 23,
   "metadata": {},
   "outputs": [],
   "source": [
    "def get_l_factor(L=CONSTANT_lL, d95=CONSTANT_Ld95):\n",
    "    \"\"\"Returns the l factor\n",
    "\n",
    "    Args:\n",
    "        L (float, optional): liberation size in cm, 150 microns from p80 of rougher flotation feed. \n",
    "        Assume as p80 of the rougher floation feed. Defaults to 0.15.\n",
    "        d95 (int, optional): 95% passing in cm. Bern estimates 30 cm - 100 cm. Defaults to 30.\n",
    "\n",
    "    Returns:\n",
    "        float: l_factor\n",
    "    \"\"\"\n",
    "    return np.sqrt(L / d95)\n",
    "\n",
    "def get_m_factor(a=CONSTANT_ma, r=CONSTANT_mr, t=CONSTANT_mt):\n",
    "    \"\"\"Returns the m factor\n",
    "\n",
    "    Args:\n",
    "        a (float, optional): average grade as a decimal. Defaults to 0.015 (1.5%).\n",
    "        r (float, optional): mineral density. Use the density for chalcopyrite. Defaults to 4.2.\n",
    "        t (float, optional): gangue density. From the Minesense Amenability Study Table 1. Defaults to 2.75.\n",
    "\n",
    "    Returns:\n",
    "        _type_: _description_\n",
    "    \"\"\"\n",
    "    return (1 - a) / a * ((1 - a) * r + a * t)\n",
    "\n",
    "def get_C_factor(f=CONSTANT_Cf, g=CONSTANT_Cg, l=get_l_factor(), m=get_m_factor()):\n",
    "    \"\"\"returns C factor from params f, g, l, m\n",
    "\n",
    "    Args:\n",
    "        f (float, optional): f factor, 0.5 for non-gold. 0.2 for gold. Defaults to 0.5.\n",
    "        g (float, optional): g factor, as size ration increases, g decreases. Defaults to 0.25.\n",
    "        l (float, optional): l factor. Defaults to get_l_factor().\n",
    "        m (float, optional): m factor. Defaults to get_m_factor().\n",
    "\n",
    "    Returns:\n",
    "        float: returns the C factor\n",
    "    \"\"\"\n",
    "    return f * g * l * m"
   ]
  },
  {
   "cell_type": "code",
   "execution_count": 4,
   "metadata": {},
   "outputs": [
    {
     "data": {
      "text/plain": [
       "2.4251265623877516"
      ]
     },
     "execution_count": 4,
     "metadata": {},
     "output_type": "execute_result"
    }
   ],
   "source": [
    "get_C_factor()"
   ]
  },
  {
   "cell_type": "code",
   "execution_count": 5,
   "metadata": {},
   "outputs": [],
   "source": [
    "Ms = 30 # kg\n",
    "variation = get_C_factor() / Ms\n",
    "sigma = np.sqrt(variation)"
   ]
  },
  {
   "cell_type": "code",
   "execution_count": 6,
   "metadata": {},
   "outputs": [
    {
     "data": {
      "text/plain": [
       "0.2843194542756294"
      ]
     },
     "execution_count": 6,
     "metadata": {},
     "output_type": "execute_result"
    }
   ],
   "source": [
    "sigma"
   ]
  },
  {
   "cell_type": "code",
   "execution_count": 7,
   "metadata": {},
   "outputs": [
    {
     "data": {
      "text/plain": [
       "0.21323959070672205"
      ]
     },
     "execution_count": 7,
     "metadata": {},
     "output_type": "execute_result"
    }
   ],
   "source": [
    "1.5 * (sigma / 2)  \n",
    "\n",
    "# Why did I do this"
   ]
  },
  {
   "cell_type": "code",
   "execution_count": 8,
   "metadata": {},
   "outputs": [
    {
     "data": {
      "text/plain": [
       "0.61191721064182"
      ]
     },
     "execution_count": 8,
     "metadata": {},
     "output_type": "execute_result"
    }
   ],
   "source": [
    "st.norm.cdf(sigma)"
   ]
  },
  {
   "cell_type": "code",
   "execution_count": 35,
   "metadata": {},
   "outputs": [],
   "source": [
    "def sigmas_from_conf(conf):\n",
    "    \"\"\"returns the number of standard deviations from the mean with a given confidence interval\n",
    "    i.e. with a 95% conf interval (conf = 0.95), function will return 1.96, meaning a 95% confidence that the\n",
    "    value is at most 1.96 stds (Z) away from the mean.\n",
    "\n",
    "    Args:\n",
    "        conf (float): confidence interval as a decimal\n",
    "\n",
    "    Returns:\n",
    "        float: number of stds away from the mean the actual value is away from the calculated value within the given confindence interval\n",
    "    \"\"\"\n",
    "    return st.norm.ppf(1 - (1 - conf) / 2)\n",
    "\n",
    "def sigma_from_params(conf_int, conf_range, grade):\n",
    "    \"\"\"Returns the value of sigma given a confidence interval, range, and average grade. This value can be fed into other \n",
    "    formulas to determine the minimum sample size.\n",
    "\n",
    "    Args:\n",
    "        conf_int (float): Confidence interval as a decimal percentage: 95% is 0.95\n",
    "        conf_range (float): Range for the given confidence interval: 95% confident that the value is within 0.2% of the true value\n",
    "        grade (float): Average grade of the distribution\n",
    "\n",
    "    Returns:\n",
    "        float: A sigma value: sigma = 0.01 (i.e. 1% error)\n",
    "    \"\"\"\n",
    "    return (conf_range / grade) / sigmas_from_conf(conf_int)\n",
    "\n",
    "def sample_mass_from_params(C, d95, sigma):\n",
    "    \"\"\"Return the minimum sample mass (in grams) to achieve the required degree of confidence & other errors associated\n",
    "\n",
    "    Args:\n",
    "        C (float): C value in g/cm^3\n",
    "        d95 (float): 95% passing size of the distribution in cm\n",
    "        sigma (float): sigma value\n",
    "\n",
    "    Returns:\n",
    "        _type_: _description_\n",
    "    \"\"\"\n",
    "    return C * d95**3 / sigma**2"
   ]
  },
  {
   "cell_type": "code",
   "execution_count": 10,
   "metadata": {},
   "outputs": [
    {
     "data": {
      "text/plain": [
       "1.959963984540054"
      ]
     },
     "execution_count": 10,
     "metadata": {},
     "output_type": "execute_result"
    }
   ],
   "source": [
    "sigmas_from_conf(0.95)"
   ]
  },
  {
   "cell_type": "code",
   "execution_count": 11,
   "metadata": {},
   "outputs": [
    {
     "data": {
      "text/plain": [
       "0.0242015766131399"
      ]
     },
     "execution_count": 11,
     "metadata": {},
     "output_type": "execute_result"
    }
   ],
   "source": [
    "d = .30\n",
    "(get_C_factor() * (d**3)) / (sigmas_from_conf(0.90) ** 2)"
   ]
  },
  {
   "cell_type": "code",
   "execution_count": 12,
   "metadata": {},
   "outputs": [
    {
     "data": {
      "text/plain": [
       "39808.05107006709"
      ]
     },
     "execution_count": 12,
     "metadata": {},
     "output_type": "execute_result"
    }
   ],
   "source": [
    "(get_C_factor() * 30**3) / sigmas_from_conf(0.90)"
   ]
  },
  {
   "cell_type": "markdown",
   "metadata": {},
   "source": [
    "# Sample Calculation\n",
    "\n",
    "Consider a copper ore, assaying ~ 1.5 % Cu, which must be routinely sampled on crusher product for assay to a 90% confidence level of +/- 0.1% Cu. \n"
   ]
  },
  {
   "cell_type": "code",
   "execution_count": 47,
   "metadata": {},
   "outputs": [
    {
     "data": {
      "text/plain": [
       "0.04053045546078461"
      ]
     },
     "execution_count": 47,
     "metadata": {},
     "output_type": "execute_result"
    }
   ],
   "source": [
    "# Solution\n",
    "# Relative precision sigma in relative terms is calculated from :\n",
    "#    X * sigma {or the confidence interval, x = ~2 if confidendence interval is 95%} = deviation from mean / mean percentage\n",
    "# 1.96 sigma = 0.1 % / 1.5% in the example above\n",
    "\n",
    "confidence_level = 0.90 # * 100%\n",
    "confidence_range = 0.1 # %\n",
    "average_grade = 1.5 # %\n",
    "\n",
    "sigma = (confidence_range / average_grade) / sigmas_from_conf(confidence_level)\n",
    "sigma"
   ]
  },
  {
   "cell_type": "code",
   "execution_count": 49,
   "metadata": {},
   "outputs": [
    {
     "name": "stdout",
     "output_type": "stream",
     "text": [
      "39859.81 kgs\n"
     ]
    }
   ],
   "source": [
    "d95 = 30\n",
    "C = get_C_factor(\n",
    "    f=0.5,\n",
    "    g=0.25,\n",
    "    l=get_l_factor(\n",
    "        L=0.15,\n",
    "        d95=d95\n",
    "    ),\n",
    "    m=get_m_factor(\n",
    "        a=0.015,\n",
    "        r=4.2,\n",
    "        t=2.75\n",
    "    )\n",
    ")\n",
    "\n",
    "mass_in_grams = sample_mass_from_params(C, d95, sigma)\n",
    "print(f'{mass_in_grams / 1000:0.2f} kgs')"
   ]
  },
  {
   "cell_type": "code",
   "execution_count": 37,
   "metadata": {},
   "outputs": [
    {
     "data": {
      "text/plain": [
       "172.56566877250697"
      ]
     },
     "execution_count": 37,
     "metadata": {},
     "output_type": "execute_result"
    }
   ],
   "source": [
    "d95 = 2.5\n",
    "sigma = sigma_from_params(0.95, 0.1, 5)\n",
    "C = get_C_factor(\n",
    "    f=0.5,\n",
    "    g=0.25,\n",
    "    l=get_l_factor(\n",
    "        L=0.015,\n",
    "        d95=d95\n",
    "    ),\n",
    "    m=get_m_factor(\n",
    "        a=0.058,\n",
    "        r=7.6,\n",
    "        t=2.65\n",
    "    )\n",
    ")\n",
    "mass_in_grams = sample_mass_from_params(C, d95, sigma)\n",
    "mass_in_grams / 1000"
   ]
  }
 ],
 "metadata": {
  "kernelspec": {
   "display_name": "base",
   "language": "python",
   "name": "python3"
  },
  "language_info": {
   "codemirror_mode": {
    "name": "ipython",
    "version": 3
   },
   "file_extension": ".py",
   "mimetype": "text/x-python",
   "name": "python",
   "nbconvert_exporter": "python",
   "pygments_lexer": "ipython3",
   "version": "3.9.12"
  },
  "orig_nbformat": 4
 },
 "nbformat": 4,
 "nbformat_minor": 2
}
