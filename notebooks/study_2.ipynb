{
 "cells": [
  {
   "cell_type": "code",
   "execution_count": 1,
   "metadata": {},
   "outputs": [],
   "source": [
    "import numpy as np\n",
    "import pandas as pd\n",
    "import matplotlib.pyplot as plt\n",
    "\n",
    "import scipy.stats as st"
   ]
  },
  {
   "cell_type": "code",
   "execution_count": 2,
   "metadata": {},
   "outputs": [],
   "source": [
    "# Constants\n",
    "CONSTANT_lL = 0.15\n",
    "CONSTANT_Ld95 = 30\n",
    "\n",
    "CONSTANT_ma = 0.015\n",
    "CONSTANT_mr = 4.2\n",
    "CONSTANT_mt = 2.75\n",
    "\n",
    "CONSTANT_Cf = 0.5\n",
    "CONSTANT_Cg = 0.25"
   ]
  },
  {
   "cell_type": "code",
   "execution_count": 3,
   "metadata": {},
   "outputs": [],
   "source": [
    "def get_l_factor(L=CONSTANT_lL, d95=CONSTANT_Ld95):\n",
    "    \"\"\"Returns the l factor\n",
    "\n",
    "    Args:\n",
    "        L (float, optional): liberation size in cm, 150 microns from p80 of rougher flotation feed. \n",
    "        Assume as p80 of the rougher floation feed. Defaults to 0.15.\n",
    "        d95 (int, optional): 95% passing in cm. Bern estimates 30 cm - 100 cm. Defaults to 30.\n",
    "\n",
    "    Returns:\n",
    "        float: l_factor\n",
    "    \"\"\"\n",
    "    return np.sqrt(L / d95)\n",
    "\n",
    "def get_m_factor(a=CONSTANT_ma, r=CONSTANT_mr, t=CONSTANT_mt):\n",
    "    \"\"\"Returns the m factor\n",
    "\n",
    "    Args:\n",
    "        a (float, optional): average grade as a decimal. Defaults to 0.015 (1.5%).\n",
    "        r (float, optional): mineral density. Use the density for chalcopyrite. Defaults to 4.2.\n",
    "        t (float, optional): gangue density. From the Minesense Amenability Study Table 1. Defaults to 2.75.\n",
    "\n",
    "    Returns:\n",
    "        _type_: _description_\n",
    "    \"\"\"\n",
    "    return (1 - a) / a * ((1 - a) * r + a * t)\n",
    "\n",
    "def get_C_factor(f=CONSTANT_Cf, g=CONSTANT_Cg, l=get_l_factor(), m=get_m_factor()):\n",
    "    \"\"\"returns C factor from params f, g, l, m\n",
    "\n",
    "    Args:\n",
    "        f (float, optional): f factor, 0.5 for non-gold. 0.2 for gold. Defaults to 0.5.\n",
    "        g (float, optional): g factor, as size ration increases, g decreases. Defaults to 0.25.\n",
    "        l (float, optional): l factor. Defaults to get_l_factor().\n",
    "        m (float, optional): m factor. Defaults to get_m_factor().\n",
    "\n",
    "    Returns:\n",
    "        float: returns the C factor\n",
    "    \"\"\"\n",
    "    return f * g * l * m\n",
    "\n",
    "def sigmas_from_conf(conf):\n",
    "    \"\"\"returns the number of standard deviations from the mean with a given confidence interval\n",
    "    i.e. with a 95% conf interval (conf = 0.95), function will return 1.96, meaning a 95% confidence that the\n",
    "    value is at most 1.96 stds (Z) away from the mean.\n",
    "\n",
    "    Args:\n",
    "        conf (float): confidence interval as a decimal\n",
    "\n",
    "    Returns:\n",
    "        float: number of stds away from the mean the actual value is away from the calculated value within the given confindence interval\n",
    "    \"\"\"\n",
    "    return st.norm.ppf(1 - (1 - conf) / 2)\n",
    "\n",
    "def sigma_from_params(conf_int, conf_range, grade):\n",
    "    \"\"\"Returns the value of sigma given a confidence interval, range, and average grade. This value can be fed into other \n",
    "    formulas to determine the minimum sample size.\n",
    "\n",
    "    Args:\n",
    "        conf_int (float): Confidence interval as a decimal percentage: 95% is 0.95\n",
    "        conf_range (float): Range for the given confidence interval: 95% confident that the value is within 0.2% of the true value\n",
    "        grade (float): Average grade of the distribution\n",
    "\n",
    "    Returns:\n",
    "        float: A sigma value: sigma = 0.01 (i.e. 1% error)\n",
    "    \"\"\"\n",
    "    return (conf_range / grade) / sigmas_from_conf(conf_int)\n",
    "\n",
    "def sample_mass_from_params(C, d95, sigma):\n",
    "    \"\"\"Return the minimum sample mass (in grams) to achieve the required degree of confidence & other errors associated\n",
    "\n",
    "    Args:\n",
    "        C (float): C value in g/cm^3\n",
    "        d95 (float): 95% passing size of the distribution in cm\n",
    "        sigma (float): sigma value\n",
    "\n",
    "    Returns:\n",
    "        _type_: _description_\n",
    "    \"\"\"\n",
    "    return C * d95**3 / sigma**2"
   ]
  },
  {
   "cell_type": "code",
   "execution_count": 4,
   "metadata": {},
   "outputs": [
    {
     "data": {
      "text/plain": [
       "2.4251265623877516"
      ]
     },
     "execution_count": 4,
     "metadata": {},
     "output_type": "execute_result"
    }
   ],
   "source": [
    "get_C_factor()"
   ]
  },
  {
   "cell_type": "code",
   "execution_count": 5,
   "metadata": {},
   "outputs": [],
   "source": [
    "Ms = 30 # kg\n",
    "variation = get_C_factor() / Ms\n",
    "sigma = np.sqrt(variation)"
   ]
  },
  {
   "cell_type": "code",
   "execution_count": 6,
   "metadata": {},
   "outputs": [
    {
     "data": {
      "text/plain": [
       "0.2843194542756294"
      ]
     },
     "execution_count": 6,
     "metadata": {},
     "output_type": "execute_result"
    }
   ],
   "source": [
    "sigma"
   ]
  },
  {
   "cell_type": "code",
   "execution_count": 7,
   "metadata": {},
   "outputs": [
    {
     "data": {
      "text/plain": [
       "0.21323959070672205"
      ]
     },
     "execution_count": 7,
     "metadata": {},
     "output_type": "execute_result"
    }
   ],
   "source": [
    "1.5 * (sigma / 2)  "
   ]
  },
  {
   "cell_type": "code",
   "execution_count": 8,
   "metadata": {},
   "outputs": [
    {
     "data": {
      "text/plain": [
       "0.61191721064182"
      ]
     },
     "execution_count": 8,
     "metadata": {},
     "output_type": "execute_result"
    }
   ],
   "source": [
    "st.norm.cdf(sigma)"
   ]
  },
  {
   "cell_type": "code",
   "execution_count": 9,
   "metadata": {},
   "outputs": [
    {
     "data": {
      "text/plain": [
       "1.959963984540054"
      ]
     },
     "execution_count": 9,
     "metadata": {},
     "output_type": "execute_result"
    }
   ],
   "source": [
    "sigmas_from_conf(0.95)"
   ]
  },
  {
   "cell_type": "code",
   "execution_count": 10,
   "metadata": {},
   "outputs": [
    {
     "data": {
      "text/plain": [
       "0.0242015766131399"
      ]
     },
     "execution_count": 10,
     "metadata": {},
     "output_type": "execute_result"
    }
   ],
   "source": [
    "d = .30\n",
    "(get_C_factor() * (d**3)) / (sigmas_from_conf(0.90) ** 2)"
   ]
  },
  {
   "cell_type": "code",
   "execution_count": 11,
   "metadata": {},
   "outputs": [
    {
     "data": {
      "text/plain": [
       "39808.05107006709"
      ]
     },
     "execution_count": 11,
     "metadata": {},
     "output_type": "execute_result"
    }
   ],
   "source": [
    "(get_C_factor() * 30**3) / sigmas_from_conf(0.90)"
   ]
  },
  {
   "cell_type": "markdown",
   "metadata": {},
   "source": [
    "# Sample Calculation\n",
    "\n",
    "Consider a copper ore, assaying ~ 1.5 % Cu, which must be routinely sampled on crusher product for assay to a 90% confidence level of +/- 0.1% Cu. \n"
   ]
  },
  {
   "cell_type": "code",
   "execution_count": 12,
   "metadata": {},
   "outputs": [
    {
     "data": {
      "text/plain": [
       "0.06079568319117691"
      ]
     },
     "execution_count": 12,
     "metadata": {},
     "output_type": "execute_result"
    }
   ],
   "source": [
    "# Solution\n",
    "# Relative precision sigma in relative terms is calculated from :\n",
    "#    X * sigma {or the confidence interval, x = ~2 if confidendence interval is 95%} = deviation from mean / mean percentage\n",
    "# 1.96 sigma = 0.1 % / 1.5% in the example above\n",
    "\n",
    "confidence_level = 0.90 # * 100%\n",
    "confidence_range = 0.15 # %\n",
    "average_grade = 1.5 # %\n",
    "\n",
    "sigma = (confidence_range / average_grade) / sigmas_from_conf(confidence_level)\n",
    "sigma"
   ]
  },
  {
   "cell_type": "code",
   "execution_count": 13,
   "metadata": {},
   "outputs": [
    {
     "name": "stdout",
     "output_type": "stream",
     "text": [
      "17715.47 kgs\n"
     ]
    }
   ],
   "source": [
    "d95 = 30\n",
    "C = get_C_factor(\n",
    "    f=0.5,\n",
    "    g=0.25,\n",
    "    l=get_l_factor(\n",
    "        L=0.15,\n",
    "        d95=d95\n",
    "    ),\n",
    "    m=get_m_factor(\n",
    "        a=0.015,\n",
    "        r=4.2,\n",
    "        t=2.75\n",
    "    )\n",
    ")\n",
    "\n",
    "mass_in_grams = sample_mass_from_params(C, d95, sigma)\n",
    "print(f'{mass_in_grams / 1000:0.2f} kgs')"
   ]
  },
  {
   "cell_type": "code",
   "execution_count": 14,
   "metadata": {},
   "outputs": [
    {
     "data": {
      "text/plain": [
       "172.56566877250697"
      ]
     },
     "execution_count": 14,
     "metadata": {},
     "output_type": "execute_result"
    }
   ],
   "source": [
    "d95 = 2.5\n",
    "sigma = sigma_from_params(0.95, 0.1, 5)\n",
    "C = get_C_factor(\n",
    "    f=0.5,\n",
    "    g=0.25,\n",
    "    l=get_l_factor(\n",
    "        L=0.015,\n",
    "        d95=d95\n",
    "    ),\n",
    "    m=get_m_factor(\n",
    "        a=0.058,\n",
    "        r=7.6,\n",
    "        t=2.65\n",
    "    )\n",
    ")\n",
    "mass_in_grams = sample_mass_from_params(C, d95, sigma)\n",
    "mass_in_grams / 1000"
   ]
  },
  {
   "cell_type": "markdown",
   "metadata": {},
   "source": [
    "## Calculations\n",
    "\n",
    "Test a variety of different precision and confidence intervals in addition to modifying assumed values slightly"
   ]
  },
  {
   "cell_type": "code",
   "execution_count": 15,
   "metadata": {},
   "outputs": [
    {
     "data": {
      "text/plain": [
       "0.06079568319117691"
      ]
     },
     "execution_count": 15,
     "metadata": {},
     "output_type": "execute_result"
    }
   ],
   "source": [
    "# Can vary confidence level, starting at 95% and decreasing\n",
    "# An average grade of 1.5% Cu remains unchanged, however the confidence range can change.\n",
    "# While the precision of minesense is said to be quite high, accuracy matters much more, and we can see the estimated minimum sample size\n",
    "# for various ranges of confidence. Start at 0.1% Cu and increase\n",
    "\n",
    "confidence_level = 0.90 # * 100%\n",
    "confidence_range = 0.15 # %\n",
    "average_grade = 1.5 # %\n",
    "\n",
    "sigma = (confidence_range / average_grade) / sigmas_from_conf(confidence_level)\n",
    "sigma"
   ]
  },
  {
   "cell_type": "code",
   "execution_count": 16,
   "metadata": {},
   "outputs": [
    {
     "name": "stdout",
     "output_type": "stream",
     "text": [
      "17715.47 kgs\n"
     ]
    }
   ],
   "source": [
    "d95 = 30 # 95 % passing of the lot in cm, can vary from 10 cm - 100 cm\n",
    "C = get_C_factor(\n",
    "    f=0.5, # Does not vary\n",
    "    g=0.25, # Should not vary\n",
    "    l=get_l_factor(\n",
    "        L=0.15, # Liberation size in cm. Can attempt to vary from 0.1-0.2\n",
    "        d95=d95\n",
    "    ),\n",
    "    m=get_m_factor(\n",
    "        a=0.015, # Average grade, should not change from 1.5%\n",
    "        r=4.2, # SG of mineral, should remain the same, but could vary from 4.1-4.2\n",
    "        t=2.75 # SG of gangue, should remain the same, but could try varying from 2.7-2.8\n",
    "    )\n",
    ")\n",
    "\n",
    "mass_in_grams = sample_mass_from_params(C, d95, sigma)\n",
    "print(f'{mass_in_grams / 1000:0.2f} kgs')"
   ]
  },
  {
   "cell_type": "code",
   "execution_count": 17,
   "metadata": {},
   "outputs": [],
   "source": [
    "confidence_levels = [0.95, 0.9, 0.85, 0.8, 0.75] # *100%\n",
    "confidence_ranges = [0.1, 0.15, 0.2] # %\n",
    "average_grade = 1.5\n",
    "\n",
    "sigmas = []\n",
    "for confidence_level in confidence_levels:\n",
    "    for confidence_range in confidence_ranges:\n",
    "        sigmas.append(sigma_from_params(confidence_level, confidence_range, average_grade))"
   ]
  },
  {
   "cell_type": "code",
   "execution_count": 18,
   "metadata": {},
   "outputs": [],
   "source": [
    "d95s = [10, 20, 30, 40, 50, 60, 70, 80, 90, 100]\n",
    "Cs = []\n",
    "for d95 in d95s:\n",
    "    Cs.append(get_C_factor(\n",
    "        f=0.5, # Does not vary\n",
    "        g=0.25, # Should not vary\n",
    "        l=get_l_factor(\n",
    "            L=0.15, # Liberation size in cm. Can attempt to vary from 0.1-0.2\n",
    "            d95=d95\n",
    "        ),\n",
    "        m=get_m_factor(\n",
    "            a=0.015, # Average grade, should not change from 1.5%\n",
    "            r=4.2, # SG of mineral, should remain the same, but could vary from 4.1-4.2\n",
    "            t=2.75 # SG of gangue, should remain the same, but could try varying from 2.7-2.8\n",
    "        )\n",
    "    ))\n",
    "\n",
    "sample_sizes = []\n",
    "\n",
    "        \n",
    "for C in Cs:\n",
    "    for d95 in d95s:\n",
    "        for sigma in sigmas:\n",
    "            sample_sizes.append(sample_mass_from_params(C, d95, sigma) / 1e6)"
   ]
  },
  {
   "cell_type": "code",
   "execution_count": 19,
   "metadata": {},
   "outputs": [
    {
     "data": {
      "text/plain": [
       "count    1500.000000\n",
       "mean      187.854892\n",
       "std       314.285144\n",
       "min         0.098873\n",
       "25%        11.254296\n",
       "50%        69.697215\n",
       "75%       225.963898\n",
       "max      3630.560982\n",
       "dtype: float64"
      ]
     },
     "execution_count": 19,
     "metadata": {},
     "output_type": "execute_result"
    }
   ],
   "source": [
    "pd.Series(sample_sizes).describe()"
   ]
  },
  {
   "cell_type": "markdown",
   "metadata": {},
   "source": [
    "## Dataframed"
   ]
  },
  {
   "cell_type": "code",
   "execution_count": 20,
   "metadata": {},
   "outputs": [],
   "source": [
    "columns = [\n",
    "    'confidence_level', \n",
    "    'margin_of_error',\n",
    "    'average_grade',\n",
    "    'sigma',\n",
    "    'd95',\n",
    "    'f',\n",
    "    'g',\n",
    "    'lL',\n",
    "    'ma',\n",
    "    'mr',\n",
    "    'mt',\n",
    "    'min_sample_size'\n",
    "    ]\n",
    "data = []\n",
    "\n",
    "confidence_levels = [0.95, 0.9, 0.85, 0.8, 0.75] # *100%\n",
    "confidence_ranges = [0.05, 0.1, 0.15, 0.2] # %\n",
    "average_grade = 1.5\n",
    "d95s = np.arange(10, 102, 2)  # 25-75 cm?\n",
    "# [10, 20, 30, 40, 50, 60, 70, 80, 90, 100]\n",
    "lLs = [0.1, 0.15, 0.2]\n",
    "mrs = [4.1, 4.15, 4.2]\n",
    "mts = [2.7, 2.75, 2.8]"
   ]
  },
  {
   "cell_type": "code",
   "execution_count": 21,
   "metadata": {},
   "outputs": [],
   "source": [
    "confidence_levels = [0.9] # *100%\n",
    "confidence_ranges = [0.1, 0.05] # %\n",
    "average_grade = 1.5\n",
    "d95s = [50, 100]\n",
    "# [10, 20, 30, 40, 50, 60, 70, 80, 90, 100]\n",
    "lLs = [.15]\n",
    "mrs = [4.15]\n",
    "mts = [2.75]"
   ]
  },
  {
   "cell_type": "code",
   "execution_count": 22,
   "metadata": {},
   "outputs": [
    {
     "data": {
      "text/html": [
       "<div>\n",
       "<style scoped>\n",
       "    .dataframe tbody tr th:only-of-type {\n",
       "        vertical-align: middle;\n",
       "    }\n",
       "\n",
       "    .dataframe tbody tr th {\n",
       "        vertical-align: top;\n",
       "    }\n",
       "\n",
       "    .dataframe thead th {\n",
       "        text-align: right;\n",
       "    }\n",
       "</style>\n",
       "<table border=\"1\" class=\"dataframe\">\n",
       "  <thead>\n",
       "    <tr style=\"text-align: right;\">\n",
       "      <th></th>\n",
       "      <th>confidence_level</th>\n",
       "      <th>margin_of_error</th>\n",
       "      <th>average_grade</th>\n",
       "      <th>sigma</th>\n",
       "      <th>d95</th>\n",
       "      <th>f</th>\n",
       "      <th>g</th>\n",
       "      <th>lL</th>\n",
       "      <th>ma</th>\n",
       "      <th>mr</th>\n",
       "      <th>mt</th>\n",
       "      <th>min_sample_size</th>\n",
       "    </tr>\n",
       "  </thead>\n",
       "  <tbody>\n",
       "    <tr>\n",
       "      <th>0</th>\n",
       "      <td>0.9</td>\n",
       "      <td>0.10</td>\n",
       "      <td>1.5</td>\n",
       "      <td>0.040530</td>\n",
       "      <td>50</td>\n",
       "      <td>0.5</td>\n",
       "      <td>0.25</td>\n",
       "      <td>0.15</td>\n",
       "      <td>0.015</td>\n",
       "      <td>4.15</td>\n",
       "      <td>2.75</td>\n",
       "      <td>141.256207</td>\n",
       "    </tr>\n",
       "    <tr>\n",
       "      <th>1</th>\n",
       "      <td>0.9</td>\n",
       "      <td>0.05</td>\n",
       "      <td>1.5</td>\n",
       "      <td>0.020265</td>\n",
       "      <td>50</td>\n",
       "      <td>0.5</td>\n",
       "      <td>0.25</td>\n",
       "      <td>0.15</td>\n",
       "      <td>0.015</td>\n",
       "      <td>4.15</td>\n",
       "      <td>2.75</td>\n",
       "      <td>565.024827</td>\n",
       "    </tr>\n",
       "    <tr>\n",
       "      <th>2</th>\n",
       "      <td>0.9</td>\n",
       "      <td>0.10</td>\n",
       "      <td>1.5</td>\n",
       "      <td>0.040530</td>\n",
       "      <td>100</td>\n",
       "      <td>0.5</td>\n",
       "      <td>0.25</td>\n",
       "      <td>0.15</td>\n",
       "      <td>0.015</td>\n",
       "      <td>4.15</td>\n",
       "      <td>2.75</td>\n",
       "      <td>799.065773</td>\n",
       "    </tr>\n",
       "    <tr>\n",
       "      <th>3</th>\n",
       "      <td>0.9</td>\n",
       "      <td>0.05</td>\n",
       "      <td>1.5</td>\n",
       "      <td>0.020265</td>\n",
       "      <td>100</td>\n",
       "      <td>0.5</td>\n",
       "      <td>0.25</td>\n",
       "      <td>0.15</td>\n",
       "      <td>0.015</td>\n",
       "      <td>4.15</td>\n",
       "      <td>2.75</td>\n",
       "      <td>3196.263092</td>\n",
       "    </tr>\n",
       "  </tbody>\n",
       "</table>\n",
       "</div>"
      ],
      "text/plain": [
       "   confidence_level  margin_of_error  average_grade     sigma  d95    f     g  \\\n",
       "0               0.9             0.10            1.5  0.040530   50  0.5  0.25   \n",
       "1               0.9             0.05            1.5  0.020265   50  0.5  0.25   \n",
       "2               0.9             0.10            1.5  0.040530  100  0.5  0.25   \n",
       "3               0.9             0.05            1.5  0.020265  100  0.5  0.25   \n",
       "\n",
       "     lL     ma    mr    mt  min_sample_size  \n",
       "0  0.15  0.015  4.15  2.75       141.256207  \n",
       "1  0.15  0.015  4.15  2.75       565.024827  \n",
       "2  0.15  0.015  4.15  2.75       799.065773  \n",
       "3  0.15  0.015  4.15  2.75      3196.263092  "
      ]
     },
     "execution_count": 22,
     "metadata": {},
     "output_type": "execute_result"
    }
   ],
   "source": [
    "data = []\n",
    "for L in lLs:\n",
    "    for r in mrs:\n",
    "        for t in mts:\n",
    "            for d95 in d95s:\n",
    "                C = get_C_factor(\n",
    "                    f=CONSTANT_Cf, # Does not vary, set at 0.5\n",
    "                    g=0.25, # Should not vary, set at 0.25\n",
    "                    l=get_l_factor(\n",
    "                        L=L, # Liberation size in cm. Can attempt to vary from 0.1-0.2\n",
    "                        d95=d95\n",
    "                    ),\n",
    "                    m=get_m_factor(\n",
    "                        a=0.015, # Average grade, should not change from 1.5%\n",
    "                        r=r, # SG of mineral, should remain the same, but could vary from 4.1-4.2\n",
    "                        t=t # SG of gangue, should remain the same, but could try varying from 2.7-2.8\n",
    "                    )\n",
    "                )\n",
    "                for confidence_level in confidence_levels:\n",
    "                    for confidence_range in confidence_ranges:\n",
    "                        sigma = sigma_from_params(confidence_level, confidence_range, average_grade)\n",
    "                        sample_size = sample_mass_from_params(C, d95, sigma) / 1e6\n",
    "                        \n",
    "                        data.append([\n",
    "                            confidence_level,\n",
    "                            confidence_range,\n",
    "                            average_grade,\n",
    "                            sigma,\n",
    "                            d95,\n",
    "                            CONSTANT_Cf,\n",
    "                            CONSTANT_Cg,\n",
    "                            L, # L\n",
    "                            0.015, # a\n",
    "                            r, # r\n",
    "                            t, # t\n",
    "                            sample_size\n",
    "                        ])                \n",
    "            \n",
    "df = pd.DataFrame(data, columns=columns)\n",
    "df"
   ]
  },
  {
   "cell_type": "code",
   "execution_count": 23,
   "metadata": {},
   "outputs": [
    {
     "data": {
      "text/plain": [
       "count       4.000000\n",
       "mean     1175.402474\n",
       "std      1374.472787\n",
       "min       141.256207\n",
       "25%       459.082672\n",
       "50%       682.045300\n",
       "75%      1398.365103\n",
       "max      3196.263092\n",
       "Name: min_sample_size, dtype: float64"
      ]
     },
     "execution_count": 23,
     "metadata": {},
     "output_type": "execute_result"
    }
   ],
   "source": [
    "df['min_sample_size'].describe()"
   ]
  },
  {
   "cell_type": "code",
   "execution_count": 24,
   "metadata": {},
   "outputs": [
    {
     "data": {
      "text/html": [
       "<div>\n",
       "<style scoped>\n",
       "    .dataframe tbody tr th:only-of-type {\n",
       "        vertical-align: middle;\n",
       "    }\n",
       "\n",
       "    .dataframe tbody tr th {\n",
       "        vertical-align: top;\n",
       "    }\n",
       "\n",
       "    .dataframe thead th {\n",
       "        text-align: right;\n",
       "    }\n",
       "</style>\n",
       "<table border=\"1\" class=\"dataframe\">\n",
       "  <thead>\n",
       "    <tr style=\"text-align: right;\">\n",
       "      <th></th>\n",
       "      <th>confidence_level</th>\n",
       "      <th>margin_of_error</th>\n",
       "      <th>average_grade</th>\n",
       "      <th>sigma</th>\n",
       "      <th>d95</th>\n",
       "      <th>f</th>\n",
       "      <th>g</th>\n",
       "      <th>lL</th>\n",
       "      <th>ma</th>\n",
       "      <th>mr</th>\n",
       "      <th>mt</th>\n",
       "      <th>min_sample_size</th>\n",
       "    </tr>\n",
       "  </thead>\n",
       "  <tbody>\n",
       "    <tr>\n",
       "      <th>count</th>\n",
       "      <td>0.0</td>\n",
       "      <td>0.0</td>\n",
       "      <td>0.0</td>\n",
       "      <td>0.0</td>\n",
       "      <td>0.0</td>\n",
       "      <td>0.0</td>\n",
       "      <td>0.0</td>\n",
       "      <td>0.0</td>\n",
       "      <td>0.0</td>\n",
       "      <td>0.0</td>\n",
       "      <td>0.0</td>\n",
       "      <td>0.0</td>\n",
       "    </tr>\n",
       "    <tr>\n",
       "      <th>mean</th>\n",
       "      <td>NaN</td>\n",
       "      <td>NaN</td>\n",
       "      <td>NaN</td>\n",
       "      <td>NaN</td>\n",
       "      <td>NaN</td>\n",
       "      <td>NaN</td>\n",
       "      <td>NaN</td>\n",
       "      <td>NaN</td>\n",
       "      <td>NaN</td>\n",
       "      <td>NaN</td>\n",
       "      <td>NaN</td>\n",
       "      <td>NaN</td>\n",
       "    </tr>\n",
       "    <tr>\n",
       "      <th>std</th>\n",
       "      <td>NaN</td>\n",
       "      <td>NaN</td>\n",
       "      <td>NaN</td>\n",
       "      <td>NaN</td>\n",
       "      <td>NaN</td>\n",
       "      <td>NaN</td>\n",
       "      <td>NaN</td>\n",
       "      <td>NaN</td>\n",
       "      <td>NaN</td>\n",
       "      <td>NaN</td>\n",
       "      <td>NaN</td>\n",
       "      <td>NaN</td>\n",
       "    </tr>\n",
       "    <tr>\n",
       "      <th>min</th>\n",
       "      <td>NaN</td>\n",
       "      <td>NaN</td>\n",
       "      <td>NaN</td>\n",
       "      <td>NaN</td>\n",
       "      <td>NaN</td>\n",
       "      <td>NaN</td>\n",
       "      <td>NaN</td>\n",
       "      <td>NaN</td>\n",
       "      <td>NaN</td>\n",
       "      <td>NaN</td>\n",
       "      <td>NaN</td>\n",
       "      <td>NaN</td>\n",
       "    </tr>\n",
       "    <tr>\n",
       "      <th>25%</th>\n",
       "      <td>NaN</td>\n",
       "      <td>NaN</td>\n",
       "      <td>NaN</td>\n",
       "      <td>NaN</td>\n",
       "      <td>NaN</td>\n",
       "      <td>NaN</td>\n",
       "      <td>NaN</td>\n",
       "      <td>NaN</td>\n",
       "      <td>NaN</td>\n",
       "      <td>NaN</td>\n",
       "      <td>NaN</td>\n",
       "      <td>NaN</td>\n",
       "    </tr>\n",
       "    <tr>\n",
       "      <th>50%</th>\n",
       "      <td>NaN</td>\n",
       "      <td>NaN</td>\n",
       "      <td>NaN</td>\n",
       "      <td>NaN</td>\n",
       "      <td>NaN</td>\n",
       "      <td>NaN</td>\n",
       "      <td>NaN</td>\n",
       "      <td>NaN</td>\n",
       "      <td>NaN</td>\n",
       "      <td>NaN</td>\n",
       "      <td>NaN</td>\n",
       "      <td>NaN</td>\n",
       "    </tr>\n",
       "    <tr>\n",
       "      <th>75%</th>\n",
       "      <td>NaN</td>\n",
       "      <td>NaN</td>\n",
       "      <td>NaN</td>\n",
       "      <td>NaN</td>\n",
       "      <td>NaN</td>\n",
       "      <td>NaN</td>\n",
       "      <td>NaN</td>\n",
       "      <td>NaN</td>\n",
       "      <td>NaN</td>\n",
       "      <td>NaN</td>\n",
       "      <td>NaN</td>\n",
       "      <td>NaN</td>\n",
       "    </tr>\n",
       "    <tr>\n",
       "      <th>max</th>\n",
       "      <td>NaN</td>\n",
       "      <td>NaN</td>\n",
       "      <td>NaN</td>\n",
       "      <td>NaN</td>\n",
       "      <td>NaN</td>\n",
       "      <td>NaN</td>\n",
       "      <td>NaN</td>\n",
       "      <td>NaN</td>\n",
       "      <td>NaN</td>\n",
       "      <td>NaN</td>\n",
       "      <td>NaN</td>\n",
       "      <td>NaN</td>\n",
       "    </tr>\n",
       "  </tbody>\n",
       "</table>\n",
       "</div>"
      ],
      "text/plain": [
       "       confidence_level  margin_of_error  average_grade  sigma  d95    f    g  \\\n",
       "count               0.0              0.0            0.0    0.0  0.0  0.0  0.0   \n",
       "mean                NaN              NaN            NaN    NaN  NaN  NaN  NaN   \n",
       "std                 NaN              NaN            NaN    NaN  NaN  NaN  NaN   \n",
       "min                 NaN              NaN            NaN    NaN  NaN  NaN  NaN   \n",
       "25%                 NaN              NaN            NaN    NaN  NaN  NaN  NaN   \n",
       "50%                 NaN              NaN            NaN    NaN  NaN  NaN  NaN   \n",
       "75%                 NaN              NaN            NaN    NaN  NaN  NaN  NaN   \n",
       "max                 NaN              NaN            NaN    NaN  NaN  NaN  NaN   \n",
       "\n",
       "        lL   ma   mr   mt  min_sample_size  \n",
       "count  0.0  0.0  0.0  0.0              0.0  \n",
       "mean   NaN  NaN  NaN  NaN              NaN  \n",
       "std    NaN  NaN  NaN  NaN              NaN  \n",
       "min    NaN  NaN  NaN  NaN              NaN  \n",
       "25%    NaN  NaN  NaN  NaN              NaN  \n",
       "50%    NaN  NaN  NaN  NaN              NaN  \n",
       "75%    NaN  NaN  NaN  NaN              NaN  \n",
       "max    NaN  NaN  NaN  NaN              NaN  "
      ]
     },
     "execution_count": 24,
     "metadata": {},
     "output_type": "execute_result"
    }
   ],
   "source": [
    "df[df['min_sample_size'] <= 15].describe()"
   ]
  },
  {
   "cell_type": "code",
   "execution_count": 25,
   "metadata": {},
   "outputs": [
    {
     "data": {
      "text/plain": [
       "array([[<AxesSubplot:title={'center':'confidence_level'}>,\n",
       "        <AxesSubplot:title={'center':'margin_of_error'}>],\n",
       "       [<AxesSubplot:title={'center':'d95'}>,\n",
       "        <AxesSubplot:title={'center':'min_sample_size'}>]], dtype=object)"
      ]
     },
     "execution_count": 25,
     "metadata": {},
     "output_type": "execute_result"
    },
    {
     "data": {
      "image/png": "[encoded data removed]",
      "text/plain": [
       "<Figure size 864x720 with 4 Axes>"
      ]
     },
     "metadata": {
      "needs_background": "light"
     },
     "output_type": "display_data"
    }
   ],
   "source": [
    "df[\n",
    "    df['min_sample_size'] <= 10\n",
    "][[\n",
    "    'confidence_level',\n",
    "    'margin_of_error',\n",
    "    'd95',\n",
    "    'min_sample_size'\n",
    "]].hist(figsize=(12, 10))"
   ]
  },
  {
   "cell_type": "code",
   "execution_count": 26,
   "metadata": {},
   "outputs": [
    {
     "data": {
      "text/html": [
       "<div>\n",
       "<style scoped>\n",
       "    .dataframe tbody tr th:only-of-type {\n",
       "        vertical-align: middle;\n",
       "    }\n",
       "\n",
       "    .dataframe tbody tr th {\n",
       "        vertical-align: top;\n",
       "    }\n",
       "\n",
       "    .dataframe thead th {\n",
       "        text-align: right;\n",
       "    }\n",
       "</style>\n",
       "<table border=\"1\" class=\"dataframe\">\n",
       "  <thead>\n",
       "    <tr style=\"text-align: right;\">\n",
       "      <th></th>\n",
       "      <th>confidence_level</th>\n",
       "      <th>margin_of_error</th>\n",
       "      <th>average_grade</th>\n",
       "      <th>sigma</th>\n",
       "      <th>d95</th>\n",
       "      <th>f</th>\n",
       "      <th>g</th>\n",
       "      <th>lL</th>\n",
       "      <th>ma</th>\n",
       "      <th>mr</th>\n",
       "      <th>mt</th>\n",
       "      <th>min_sample_size</th>\n",
       "    </tr>\n",
       "  </thead>\n",
       "  <tbody>\n",
       "    <tr>\n",
       "      <th>count</th>\n",
       "      <td>0.0</td>\n",
       "      <td>0.0</td>\n",
       "      <td>0.0</td>\n",
       "      <td>0.0</td>\n",
       "      <td>0.0</td>\n",
       "      <td>0.0</td>\n",
       "      <td>0.0</td>\n",
       "      <td>0.0</td>\n",
       "      <td>0.0</td>\n",
       "      <td>0.0</td>\n",
       "      <td>0.0</td>\n",
       "      <td>0.0</td>\n",
       "    </tr>\n",
       "    <tr>\n",
       "      <th>mean</th>\n",
       "      <td>NaN</td>\n",
       "      <td>NaN</td>\n",
       "      <td>NaN</td>\n",
       "      <td>NaN</td>\n",
       "      <td>NaN</td>\n",
       "      <td>NaN</td>\n",
       "      <td>NaN</td>\n",
       "      <td>NaN</td>\n",
       "      <td>NaN</td>\n",
       "      <td>NaN</td>\n",
       "      <td>NaN</td>\n",
       "      <td>NaN</td>\n",
       "    </tr>\n",
       "    <tr>\n",
       "      <th>std</th>\n",
       "      <td>NaN</td>\n",
       "      <td>NaN</td>\n",
       "      <td>NaN</td>\n",
       "      <td>NaN</td>\n",
       "      <td>NaN</td>\n",
       "      <td>NaN</td>\n",
       "      <td>NaN</td>\n",
       "      <td>NaN</td>\n",
       "      <td>NaN</td>\n",
       "      <td>NaN</td>\n",
       "      <td>NaN</td>\n",
       "      <td>NaN</td>\n",
       "    </tr>\n",
       "    <tr>\n",
       "      <th>min</th>\n",
       "      <td>NaN</td>\n",
       "      <td>NaN</td>\n",
       "      <td>NaN</td>\n",
       "      <td>NaN</td>\n",
       "      <td>NaN</td>\n",
       "      <td>NaN</td>\n",
       "      <td>NaN</td>\n",
       "      <td>NaN</td>\n",
       "      <td>NaN</td>\n",
       "      <td>NaN</td>\n",
       "      <td>NaN</td>\n",
       "      <td>NaN</td>\n",
       "    </tr>\n",
       "    <tr>\n",
       "      <th>25%</th>\n",
       "      <td>NaN</td>\n",
       "      <td>NaN</td>\n",
       "      <td>NaN</td>\n",
       "      <td>NaN</td>\n",
       "      <td>NaN</td>\n",
       "      <td>NaN</td>\n",
       "      <td>NaN</td>\n",
       "      <td>NaN</td>\n",
       "      <td>NaN</td>\n",
       "      <td>NaN</td>\n",
       "      <td>NaN</td>\n",
       "      <td>NaN</td>\n",
       "    </tr>\n",
       "    <tr>\n",
       "      <th>50%</th>\n",
       "      <td>NaN</td>\n",
       "      <td>NaN</td>\n",
       "      <td>NaN</td>\n",
       "      <td>NaN</td>\n",
       "      <td>NaN</td>\n",
       "      <td>NaN</td>\n",
       "      <td>NaN</td>\n",
       "      <td>NaN</td>\n",
       "      <td>NaN</td>\n",
       "      <td>NaN</td>\n",
       "      <td>NaN</td>\n",
       "      <td>NaN</td>\n",
       "    </tr>\n",
       "    <tr>\n",
       "      <th>75%</th>\n",
       "      <td>NaN</td>\n",
       "      <td>NaN</td>\n",
       "      <td>NaN</td>\n",
       "      <td>NaN</td>\n",
       "      <td>NaN</td>\n",
       "      <td>NaN</td>\n",
       "      <td>NaN</td>\n",
       "      <td>NaN</td>\n",
       "      <td>NaN</td>\n",
       "      <td>NaN</td>\n",
       "      <td>NaN</td>\n",
       "      <td>NaN</td>\n",
       "    </tr>\n",
       "    <tr>\n",
       "      <th>max</th>\n",
       "      <td>NaN</td>\n",
       "      <td>NaN</td>\n",
       "      <td>NaN</td>\n",
       "      <td>NaN</td>\n",
       "      <td>NaN</td>\n",
       "      <td>NaN</td>\n",
       "      <td>NaN</td>\n",
       "      <td>NaN</td>\n",
       "      <td>NaN</td>\n",
       "      <td>NaN</td>\n",
       "      <td>NaN</td>\n",
       "      <td>NaN</td>\n",
       "    </tr>\n",
       "  </tbody>\n",
       "</table>\n",
       "</div>"
      ],
      "text/plain": [
       "       confidence_level  margin_of_error  average_grade  sigma  d95    f    g  \\\n",
       "count               0.0              0.0            0.0    0.0  0.0  0.0  0.0   \n",
       "mean                NaN              NaN            NaN    NaN  NaN  NaN  NaN   \n",
       "std                 NaN              NaN            NaN    NaN  NaN  NaN  NaN   \n",
       "min                 NaN              NaN            NaN    NaN  NaN  NaN  NaN   \n",
       "25%                 NaN              NaN            NaN    NaN  NaN  NaN  NaN   \n",
       "50%                 NaN              NaN            NaN    NaN  NaN  NaN  NaN   \n",
       "75%                 NaN              NaN            NaN    NaN  NaN  NaN  NaN   \n",
       "max                 NaN              NaN            NaN    NaN  NaN  NaN  NaN   \n",
       "\n",
       "        lL   ma   mr   mt  min_sample_size  \n",
       "count  0.0  0.0  0.0  0.0              0.0  \n",
       "mean   NaN  NaN  NaN  NaN              NaN  \n",
       "std    NaN  NaN  NaN  NaN              NaN  \n",
       "min    NaN  NaN  NaN  NaN              NaN  \n",
       "25%    NaN  NaN  NaN  NaN              NaN  \n",
       "50%    NaN  NaN  NaN  NaN              NaN  \n",
       "75%    NaN  NaN  NaN  NaN              NaN  \n",
       "max    NaN  NaN  NaN  NaN              NaN  "
      ]
     },
     "execution_count": 26,
     "metadata": {},
     "output_type": "execute_result"
    }
   ],
   "source": [
    "df[df['min_sample_size'] <= 2.5].describe()"
   ]
  },
  {
   "cell_type": "markdown",
   "metadata": {},
   "source": [
    "## Reverse"
   ]
  },
  {
   "cell_type": "code",
   "execution_count": 62,
   "metadata": {},
   "outputs": [],
   "source": [
    "r_sigmas, r_zs, r_crs = [], [], []\n",
    "Ms = [35000]\n",
    "d95s = [30, 50, 100]\n",
    "moe = 0.2\n",
    "\n",
    "for C in Cs:\n",
    "    for m in Ms:\n",
    "        for d95 in d95s:\n",
    "            sigma = np.sqrt(C * d95**3 / (m / 2))  # divide by two bc the min sample size is usually half of the suggested\n",
    "            r_sigmas.append(sigma)\n",
    "            z = 0.05 / (1.5 * sigma)  # within 0.05% Cu\n",
    "            r_zs.append(z)\n",
    "            r_crs.append((st.norm.cdf(z) - 0.5) * 2)"
   ]
  },
  {
   "cell_type": "code",
   "execution_count": 63,
   "metadata": {},
   "outputs": [],
   "source": [
    "data = []\n",
    "for L in lLs:\n",
    "    for r in mrs:\n",
    "        for t in mts:\n",
    "            for d95 in d95s:\n",
    "                C = get_C_factor(\n",
    "                    f=CONSTANT_Cf, # Does not vary, set at 0.5\n",
    "                    g=0.25, # Should not vary, set at 0.25\n",
    "                    l=get_l_factor(\n",
    "                        L=L, # Liberation size in cm. Can attempt to vary from 0.1-0.2\n",
    "                        d95=d95\n",
    "                    ),\n",
    "                    m=get_m_factor(\n",
    "                        a=0.015, # Average grade, should not change from 1.5%\n",
    "                        r=r, # SG of mineral, should remain the same, but could vary from 4.1-4.2\n",
    "                        t=t # SG of gangue, should remain the same, but could try varying from 2.7-2.8\n",
    "                    )\n",
    "                )\n",
    "                for m in Ms:\n",
    "                    sigma = np.sqrt(C * d95**3 / (m / 2))  # divide by two bc the min sample size is usually half of the suggested\n",
    "                    z = moe / (1.5 * sigma)  # within 0.2% Cu\n",
    "                        \n",
    "                    data.append([\n",
    "                        (st.norm.cdf(z) - 0.5) * 2,\n",
    "                        moe,\n",
    "                        average_grade,\n",
    "                        sigma,\n",
    "                        d95,\n",
    "                        CONSTANT_Cf,\n",
    "                        CONSTANT_Cg,\n",
    "                        L, # L\n",
    "                        0.015, # a\n",
    "                        r, # r\n",
    "                        t, # t\n",
    "                        m / (2 * 1e6)\n",
    "                    ])   \n",
    "                    \n",
    "r_df = pd.DataFrame(data, columns=columns)"
   ]
  },
  {
   "cell_type": "markdown",
   "metadata": {},
   "source": [
    "### Reverse within 90% conf"
   ]
  },
  {
   "cell_type": "code",
   "execution_count": 37,
   "metadata": {},
   "outputs": [],
   "source": [
    "r_sigmas, r_zs, r_crs = [], [], []\n",
    "Ms = [35000]\n",
    "d95s = [30, 50, 100]\n",
    "\n",
    "for C in Cs:\n",
    "    for m in Ms:\n",
    "        for d95 in d95s:\n",
    "            sigma = np.sqrt(C * d95**3 / (m / 2))  # divide by two bc the min sample size is usually half of the suggested\n",
    "            r_sigmas.append(sigma)\n",
    "            z = 0.05 / (1.5 * sigma)  # within 0.05% Cu\n",
    "            r_zs.append(z)\n",
    "            r_crs.append((st.norm.cdf(z) - 0.5) * 2)"
   ]
  },
  {
   "cell_type": "code",
   "execution_count": 60,
   "metadata": {},
   "outputs": [],
   "source": [
    "Ms = [10000000]\n",
    "d95s = [30, 50, 100]\n",
    "conf = 0.9\n",
    "a = 0.015\n",
    "\n",
    "data = []\n",
    "for L in lLs:\n",
    "    for r in mrs:\n",
    "        for t in mts:\n",
    "            for d95 in d95s:\n",
    "                C = get_C_factor(\n",
    "                    f=CONSTANT_Cf, # Does not vary, set at 0.5\n",
    "                    g=0.25, # Should not vary, set at 0.25\n",
    "                    l=get_l_factor(\n",
    "                        L=L, # Liberation size in cm. Can attempt to vary from 0.1-0.2\n",
    "                        d95=d95\n",
    "                    ),\n",
    "                    m=get_m_factor(\n",
    "                        a=a, # Average grade, should not change from 1.5%\n",
    "                        r=r, # SG of mineral, should remain the same, but could vary from 4.1-4.2\n",
    "                        t=t # SG of gangue, should remain the same, but could try varying from 2.7-2.8\n",
    "                    )\n",
    "                )\n",
    "                for m in Ms:\n",
    "                    sigma = np.sqrt(C * d95**3 / (m / 2))  # divide by two bc the min sample size is usually half of the suggested\n",
    "                    z = sigmas_from_conf(conf)\n",
    "                        \n",
    "                    data.append([\n",
    "                        conf, # (st.norm.cdf(z) - 0.5) * 2\n",
    "                        sigma * average_grade * z,\n",
    "                        average_grade,\n",
    "                        sigma,\n",
    "                        d95,\n",
    "                        CONSTANT_Cf,\n",
    "                        CONSTANT_Cg,\n",
    "                        L, # L\n",
    "                        0.015, # a\n",
    "                        r, # r\n",
    "                        t, # t\n",
    "                        m / (2 * 1e6)\n",
    "                    ])   \n",
    "                    \n",
    "r_df = pd.DataFrame(data, columns=columns)"
   ]
  },
  {
   "cell_type": "code",
   "execution_count": 55,
   "metadata": {},
   "outputs": [
    {
     "name": "stdout",
     "output_type": "stream",
     "text": [
      "1.6448536269514722\n"
     ]
    }
   ],
   "source": [
    "print(sigmas_from_conf(0.9))"
   ]
  },
  {
   "cell_type": "code",
   "execution_count": 64,
   "metadata": {},
   "outputs": [
    {
     "data": {
      "text/html": [
       "<div>\n",
       "<style scoped>\n",
       "    .dataframe tbody tr th:only-of-type {\n",
       "        vertical-align: middle;\n",
       "    }\n",
       "\n",
       "    .dataframe tbody tr th {\n",
       "        vertical-align: top;\n",
       "    }\n",
       "\n",
       "    .dataframe thead th {\n",
       "        text-align: right;\n",
       "    }\n",
       "</style>\n",
       "<table border=\"1\" class=\"dataframe\">\n",
       "  <thead>\n",
       "    <tr style=\"text-align: right;\">\n",
       "      <th></th>\n",
       "      <th>confidence_level</th>\n",
       "      <th>margin_of_error</th>\n",
       "      <th>average_grade</th>\n",
       "      <th>sigma</th>\n",
       "      <th>d95</th>\n",
       "      <th>f</th>\n",
       "      <th>g</th>\n",
       "      <th>lL</th>\n",
       "      <th>ma</th>\n",
       "      <th>mr</th>\n",
       "      <th>mt</th>\n",
       "      <th>min_sample_size</th>\n",
       "    </tr>\n",
       "  </thead>\n",
       "  <tbody>\n",
       "    <tr>\n",
       "      <th>0</th>\n",
       "      <td>0.055281</td>\n",
       "      <td>0.2</td>\n",
       "      <td>1.5</td>\n",
       "      <td>1.922894</td>\n",
       "      <td>30</td>\n",
       "      <td>0.5</td>\n",
       "      <td>0.25</td>\n",
       "      <td>0.15</td>\n",
       "      <td>0.015</td>\n",
       "      <td>4.15</td>\n",
       "      <td>2.75</td>\n",
       "      <td>0.0175</td>\n",
       "    </tr>\n",
       "    <tr>\n",
       "      <th>1</th>\n",
       "      <td>0.029209</td>\n",
       "      <td>0.2</td>\n",
       "      <td>1.5</td>\n",
       "      <td>3.641382</td>\n",
       "      <td>50</td>\n",
       "      <td>0.5</td>\n",
       "      <td>0.25</td>\n",
       "      <td>0.15</td>\n",
       "      <td>0.015</td>\n",
       "      <td>4.15</td>\n",
       "      <td>2.75</td>\n",
       "      <td>0.0175</td>\n",
       "    </tr>\n",
       "    <tr>\n",
       "      <th>2</th>\n",
       "      <td>0.012283</td>\n",
       "      <td>0.2</td>\n",
       "      <td>1.5</td>\n",
       "      <td>8.660715</td>\n",
       "      <td>100</td>\n",
       "      <td>0.5</td>\n",
       "      <td>0.25</td>\n",
       "      <td>0.15</td>\n",
       "      <td>0.015</td>\n",
       "      <td>4.15</td>\n",
       "      <td>2.75</td>\n",
       "      <td>0.0175</td>\n",
       "    </tr>\n",
       "  </tbody>\n",
       "</table>\n",
       "</div>"
      ],
      "text/plain": [
       "   confidence_level  margin_of_error  average_grade     sigma  d95    f     g  \\\n",
       "0          0.055281              0.2            1.5  1.922894   30  0.5  0.25   \n",
       "1          0.029209              0.2            1.5  3.641382   50  0.5  0.25   \n",
       "2          0.012283              0.2            1.5  8.660715  100  0.5  0.25   \n",
       "\n",
       "     lL     ma    mr    mt  min_sample_size  \n",
       "0  0.15  0.015  4.15  2.75           0.0175  \n",
       "1  0.15  0.015  4.15  2.75           0.0175  \n",
       "2  0.15  0.015  4.15  2.75           0.0175  "
      ]
     },
     "execution_count": 64,
     "metadata": {},
     "output_type": "execute_result"
    }
   ],
   "source": [
    "r_df"
   ]
  },
  {
   "cell_type": "code",
   "execution_count": 32,
   "metadata": {},
   "outputs": [
    {
     "data": {
      "text/plain": [
       "count    30.000000\n",
       "mean      0.008395\n",
       "std       0.005674\n",
       "min       0.001717\n",
       "25%       0.002909\n",
       "50%       0.007430\n",
       "75%       0.013418\n",
       "max       0.018577\n",
       "dtype: float64"
      ]
     },
     "execution_count": 32,
     "metadata": {},
     "output_type": "execute_result"
    }
   ],
   "source": [
    "pd.Series(r_crs).describe()"
   ]
  },
  {
   "cell_type": "code",
   "execution_count": 33,
   "metadata": {},
   "outputs": [
    {
     "data": {
      "text/plain": [
       "<AxesSubplot:>"
      ]
     },
     "execution_count": 33,
     "metadata": {},
     "output_type": "execute_result"
    },
    {
     "data": {
      "image/png": "[encoded data removed]",
      "text/plain": [
       "<Figure size 432x288 with 1 Axes>"
      ]
     },
     "metadata": {
      "needs_background": "light"
     },
     "output_type": "display_data"
    }
   ],
   "source": [
    "pd.Series(r_crs).hist()"
   ]
  },
  {
   "cell_type": "code",
   "execution_count": 34,
   "metadata": {},
   "outputs": [
    {
     "data": {
      "text/plain": [
       "array([[<AxesSubplot:title={'center':'confidence_level'}>,\n",
       "        <AxesSubplot:title={'center':'margin_of_error'}>,\n",
       "        <AxesSubplot:title={'center':'average_grade'}>],\n",
       "       [<AxesSubplot:title={'center':'sigma'}>,\n",
       "        <AxesSubplot:title={'center':'d95'}>,\n",
       "        <AxesSubplot:title={'center':'f'}>],\n",
       "       [<AxesSubplot:title={'center':'g'}>,\n",
       "        <AxesSubplot:title={'center':'lL'}>,\n",
       "        <AxesSubplot:title={'center':'ma'}>],\n",
       "       [<AxesSubplot:title={'center':'mr'}>,\n",
       "        <AxesSubplot:title={'center':'mt'}>,\n",
       "        <AxesSubplot:title={'center':'min_sample_size'}>]], dtype=object)"
      ]
     },
     "execution_count": 34,
     "metadata": {},
     "output_type": "execute_result"
    },
    {
     "data": {
      "image/png": "[encoded data removed]",
      "text/plain": [
       "<Figure size 1080x1440 with 12 Axes>"
      ]
     },
     "metadata": {
      "needs_background": "light"
     },
     "output_type": "display_data"
    }
   ],
   "source": [
    "r_df.hist(figsize=(15, 20))"
   ]
  },
  {
   "cell_type": "code",
   "execution_count": 35,
   "metadata": {},
   "outputs": [
    {
     "data": {
      "text/html": [
       "<div>\n",
       "<style scoped>\n",
       "    .dataframe tbody tr th:only-of-type {\n",
       "        vertical-align: middle;\n",
       "    }\n",
       "\n",
       "    .dataframe tbody tr th {\n",
       "        vertical-align: top;\n",
       "    }\n",
       "\n",
       "    .dataframe thead th {\n",
       "        text-align: right;\n",
       "    }\n",
       "</style>\n",
       "<table border=\"1\" class=\"dataframe\">\n",
       "  <thead>\n",
       "    <tr style=\"text-align: right;\">\n",
       "      <th></th>\n",
       "      <th>confidence_level</th>\n",
       "      <th>margin_of_error</th>\n",
       "      <th>average_grade</th>\n",
       "      <th>sigma</th>\n",
       "      <th>d95</th>\n",
       "      <th>f</th>\n",
       "      <th>g</th>\n",
       "      <th>lL</th>\n",
       "      <th>ma</th>\n",
       "      <th>mr</th>\n",
       "      <th>mt</th>\n",
       "      <th>min_sample_size</th>\n",
       "    </tr>\n",
       "  </thead>\n",
       "  <tbody>\n",
       "    <tr>\n",
       "      <th>count</th>\n",
       "      <td>3.000000</td>\n",
       "      <td>3.000000e+00</td>\n",
       "      <td>3.0</td>\n",
       "      <td>3.000000</td>\n",
       "      <td>3.000000</td>\n",
       "      <td>3.0</td>\n",
       "      <td>3.00</td>\n",
       "      <td>3.00</td>\n",
       "      <td>3.000</td>\n",
       "      <td>3.00</td>\n",
       "      <td>3.00</td>\n",
       "      <td>3.0000</td>\n",
       "    </tr>\n",
       "    <tr>\n",
       "      <th>mean</th>\n",
       "      <td>0.032258</td>\n",
       "      <td>2.000000e-01</td>\n",
       "      <td>1.5</td>\n",
       "      <td>4.741663</td>\n",
       "      <td>60.000000</td>\n",
       "      <td>0.5</td>\n",
       "      <td>0.25</td>\n",
       "      <td>0.15</td>\n",
       "      <td>0.015</td>\n",
       "      <td>4.15</td>\n",
       "      <td>2.75</td>\n",
       "      <td>0.0175</td>\n",
       "    </tr>\n",
       "    <tr>\n",
       "      <th>std</th>\n",
       "      <td>0.021660</td>\n",
       "      <td>3.399350e-17</td>\n",
       "      <td>0.0</td>\n",
       "      <td>3.501074</td>\n",
       "      <td>36.055513</td>\n",
       "      <td>0.0</td>\n",
       "      <td>0.00</td>\n",
       "      <td>0.00</td>\n",
       "      <td>0.000</td>\n",
       "      <td>0.00</td>\n",
       "      <td>0.00</td>\n",
       "      <td>0.0000</td>\n",
       "    </tr>\n",
       "    <tr>\n",
       "      <th>min</th>\n",
       "      <td>0.012283</td>\n",
       "      <td>2.000000e-01</td>\n",
       "      <td>1.5</td>\n",
       "      <td>1.922894</td>\n",
       "      <td>30.000000</td>\n",
       "      <td>0.5</td>\n",
       "      <td>0.25</td>\n",
       "      <td>0.15</td>\n",
       "      <td>0.015</td>\n",
       "      <td>4.15</td>\n",
       "      <td>2.75</td>\n",
       "      <td>0.0175</td>\n",
       "    </tr>\n",
       "    <tr>\n",
       "      <th>25%</th>\n",
       "      <td>0.020746</td>\n",
       "      <td>2.000000e-01</td>\n",
       "      <td>1.5</td>\n",
       "      <td>2.782138</td>\n",
       "      <td>40.000000</td>\n",
       "      <td>0.5</td>\n",
       "      <td>0.25</td>\n",
       "      <td>0.15</td>\n",
       "      <td>0.015</td>\n",
       "      <td>4.15</td>\n",
       "      <td>2.75</td>\n",
       "      <td>0.0175</td>\n",
       "    </tr>\n",
       "    <tr>\n",
       "      <th>50%</th>\n",
       "      <td>0.029209</td>\n",
       "      <td>2.000000e-01</td>\n",
       "      <td>1.5</td>\n",
       "      <td>3.641382</td>\n",
       "      <td>50.000000</td>\n",
       "      <td>0.5</td>\n",
       "      <td>0.25</td>\n",
       "      <td>0.15</td>\n",
       "      <td>0.015</td>\n",
       "      <td>4.15</td>\n",
       "      <td>2.75</td>\n",
       "      <td>0.0175</td>\n",
       "    </tr>\n",
       "    <tr>\n",
       "      <th>75%</th>\n",
       "      <td>0.042245</td>\n",
       "      <td>2.000000e-01</td>\n",
       "      <td>1.5</td>\n",
       "      <td>6.151048</td>\n",
       "      <td>75.000000</td>\n",
       "      <td>0.5</td>\n",
       "      <td>0.25</td>\n",
       "      <td>0.15</td>\n",
       "      <td>0.015</td>\n",
       "      <td>4.15</td>\n",
       "      <td>2.75</td>\n",
       "      <td>0.0175</td>\n",
       "    </tr>\n",
       "    <tr>\n",
       "      <th>max</th>\n",
       "      <td>0.055281</td>\n",
       "      <td>2.000000e-01</td>\n",
       "      <td>1.5</td>\n",
       "      <td>8.660715</td>\n",
       "      <td>100.000000</td>\n",
       "      <td>0.5</td>\n",
       "      <td>0.25</td>\n",
       "      <td>0.15</td>\n",
       "      <td>0.015</td>\n",
       "      <td>4.15</td>\n",
       "      <td>2.75</td>\n",
       "      <td>0.0175</td>\n",
       "    </tr>\n",
       "  </tbody>\n",
       "</table>\n",
       "</div>"
      ],
      "text/plain": [
       "       confidence_level  margin_of_error  average_grade     sigma         d95  \\\n",
       "count          3.000000     3.000000e+00            3.0  3.000000    3.000000   \n",
       "mean           0.032258     2.000000e-01            1.5  4.741663   60.000000   \n",
       "std            0.021660     3.399350e-17            0.0  3.501074   36.055513   \n",
       "min            0.012283     2.000000e-01            1.5  1.922894   30.000000   \n",
       "25%            0.020746     2.000000e-01            1.5  2.782138   40.000000   \n",
       "50%            0.029209     2.000000e-01            1.5  3.641382   50.000000   \n",
       "75%            0.042245     2.000000e-01            1.5  6.151048   75.000000   \n",
       "max            0.055281     2.000000e-01            1.5  8.660715  100.000000   \n",
       "\n",
       "         f     g    lL     ma    mr    mt  min_sample_size  \n",
       "count  3.0  3.00  3.00  3.000  3.00  3.00           3.0000  \n",
       "mean   0.5  0.25  0.15  0.015  4.15  2.75           0.0175  \n",
       "std    0.0  0.00  0.00  0.000  0.00  0.00           0.0000  \n",
       "min    0.5  0.25  0.15  0.015  4.15  2.75           0.0175  \n",
       "25%    0.5  0.25  0.15  0.015  4.15  2.75           0.0175  \n",
       "50%    0.5  0.25  0.15  0.015  4.15  2.75           0.0175  \n",
       "75%    0.5  0.25  0.15  0.015  4.15  2.75           0.0175  \n",
       "max    0.5  0.25  0.15  0.015  4.15  2.75           0.0175  "
      ]
     },
     "execution_count": 35,
     "metadata": {},
     "output_type": "execute_result"
    }
   ],
   "source": [
    "r_df.describe()"
   ]
  },
  {
   "cell_type": "code",
   "execution_count": 36,
   "metadata": {},
   "outputs": [
    {
     "data": {
      "text/html": [
       "<div>\n",
       "<style scoped>\n",
       "    .dataframe tbody tr th:only-of-type {\n",
       "        vertical-align: middle;\n",
       "    }\n",
       "\n",
       "    .dataframe tbody tr th {\n",
       "        vertical-align: top;\n",
       "    }\n",
       "\n",
       "    .dataframe thead th {\n",
       "        text-align: right;\n",
       "    }\n",
       "</style>\n",
       "<table border=\"1\" class=\"dataframe\">\n",
       "  <thead>\n",
       "    <tr style=\"text-align: right;\">\n",
       "      <th></th>\n",
       "      <th>confidence_level</th>\n",
       "      <th>margin_of_error</th>\n",
       "      <th>average_grade</th>\n",
       "      <th>sigma</th>\n",
       "      <th>d95</th>\n",
       "      <th>f</th>\n",
       "      <th>g</th>\n",
       "      <th>lL</th>\n",
       "      <th>ma</th>\n",
       "      <th>mr</th>\n",
       "      <th>mt</th>\n",
       "      <th>min_sample_size</th>\n",
       "    </tr>\n",
       "  </thead>\n",
       "  <tbody>\n",
       "    <tr>\n",
       "      <th>0</th>\n",
       "      <td>0.055281</td>\n",
       "      <td>0.2</td>\n",
       "      <td>1.5</td>\n",
       "      <td>1.922894</td>\n",
       "      <td>30</td>\n",
       "      <td>0.5</td>\n",
       "      <td>0.25</td>\n",
       "      <td>0.15</td>\n",
       "      <td>0.015</td>\n",
       "      <td>4.15</td>\n",
       "      <td>2.75</td>\n",
       "      <td>0.0175</td>\n",
       "    </tr>\n",
       "  </tbody>\n",
       "</table>\n",
       "</div>"
      ],
      "text/plain": [
       "   confidence_level  margin_of_error  average_grade     sigma  d95    f     g  \\\n",
       "0          0.055281              0.2            1.5  1.922894   30  0.5  0.25   \n",
       "\n",
       "     lL     ma    mr    mt  min_sample_size  \n",
       "0  0.15  0.015  4.15  2.75           0.0175  "
      ]
     },
     "execution_count": 36,
     "metadata": {},
     "output_type": "execute_result"
    }
   ],
   "source": [
    "r_df[r_df['confidence_level'] == r_df['confidence_level'].max()]"
   ]
  }
 ],
 "metadata": {
  "kernelspec": {
   "display_name": "base",
   "language": "python",
   "name": "python3"
  },
  "language_info": {
   "codemirror_mode": {
    "name": "ipython",
    "version": 3
   },
   "file_extension": ".py",
   "mimetype": "text/x-python",
   "name": "python",
   "nbconvert_exporter": "python",
   "pygments_lexer": "ipython3",
   "version": "3.9.12"
  },
  "orig_nbformat": 4
 },
 "nbformat": 4,
 "nbformat_minor": 2
}
