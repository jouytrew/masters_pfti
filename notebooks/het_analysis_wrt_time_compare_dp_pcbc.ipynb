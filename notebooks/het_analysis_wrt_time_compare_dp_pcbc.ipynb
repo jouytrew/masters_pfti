{
 "cells": [
  {
   "attachments": {},
   "cell_type": "markdown",
   "metadata": {},
   "source": [
    "# Imports"
   ]
  },
  {
   "cell_type": "code",
   "execution_count": 23,
   "metadata": {},
   "outputs": [],
   "source": [
    "import pandas as pd\n",
    "import numpy as np\n",
    "import os,  sys\n",
    "import datetime as dt\n",
    "\n",
    "import matplotlib.pyplot as plt\n",
    "import matplotlib.colors as colors\n",
    "import matplotlib.ticker as mtick\n",
    "import matplotlib.dates as mdates\n",
    "\n",
    "from mpl_toolkits import mplot3d\n",
    "\n",
    "sys.path.append('/Users/benjaminwong/JupyterNotebooks/masters_pfti/notebooks/python/')\n",
    "\n",
    "from hetanalysis import HetAnalysis\n",
    "from clean import PCBCCleaner, DrawPointAssayCleaner\n",
    "import plotter\n",
    "\n",
    "output_dir = \"../outputs/het_analysis_wrt_time_compare_dp_pcbc/\"\n",
    "SAVE = True\n",
    "\n",
    "plt.rcParams.update(\n",
    "    {\n",
    "        'font.size': 18\n",
    "    }\n",
    ")\n",
    "\n",
    "# %matplotlib widget"
   ]
  },
  {
   "attachments": {},
   "cell_type": "markdown",
   "metadata": {},
   "source": [
    "# Data Input and Cleaning"
   ]
  },
  {
   "cell_type": "code",
   "execution_count": 24,
   "metadata": {},
   "outputs": [],
   "source": [
    "pcbc_df = PCBCCleaner.get_processed_data()\n",
    "assay_df = DrawPointAssayCleaner.get_processed_data()"
   ]
  },
  {
   "attachments": {},
   "cell_type": "markdown",
   "metadata": {},
   "source": [
    "# Group and Output"
   ]
  },
  {
   "attachments": {},
   "cell_type": "markdown",
   "metadata": {},
   "source": [
    "## Grouping"
   ]
  },
  {
   "cell_type": "code",
   "execution_count": 25,
   "metadata": {},
   "outputs": [],
   "source": [
    "ids = list(pcbc_df['dhid'].unique())\n",
    "elements = [\n",
    "    'CU',\n",
    "    'AU'\n",
    "]"
   ]
  },
  {
   "attachments": {},
   "cell_type": "markdown",
   "metadata": {},
   "source": [
    "### PCBC"
   ]
  },
  {
   "cell_type": "code",
   "execution_count": 26,
   "metadata": {},
   "outputs": [],
   "source": [
    "pcbc_igs, pcbc_timeslices = {}, {}\n",
    "\n",
    "for id in ids:\n",
    "    dp_timeslices = {} \n",
    "\n",
    "    filtered_df = pcbc_df.query('dhid == @id').dropna(subset=elements).reset_index(drop=True)\n",
    "\n",
    "    indices = filtered_df.index.to_list()\n",
    "\n",
    "    dp_ig = {} # instantaneous grade\n",
    "    for index in indices:\n",
    "        date = filtered_df.iloc[index]['date']\n",
    "        dp_timeslices[date] = {}\n",
    "        \n",
    "        for element in elements:\n",
    "            if element not in dp_ig:\n",
    "                dp_ig[element] = []\n",
    "            \n",
    "            dp_ig[element].append(filtered_df[element].loc[index])\n",
    "            \n",
    "            dp_timeslices[date][element] = HetAnalysis(\n",
    "                f'{id}_{element}_{date}', \n",
    "                filtered_df['weight'].loc[:index], \n",
    "                filtered_df[element].loc[:index]\n",
    "                )\n",
    "    \n",
    "    pcbc_timeslices[id] = dp_timeslices\n",
    "    pcbc_igs[id] = dp_ig"
   ]
  },
  {
   "attachments": {},
   "cell_type": "markdown",
   "metadata": {},
   "source": [
    "### DP Assay"
   ]
  },
  {
   "cell_type": "code",
   "execution_count": 27,
   "metadata": {},
   "outputs": [],
   "source": [
    "assay_igs, assay_timeslices = {}, {}\n",
    "\n",
    "for id in ids:\n",
    "    dp_timeslices = {} \n",
    "\n",
    "    filtered_df = assay_df.query('dhid == @id').dropna(subset=elements).reset_index(drop=True)\n",
    "\n",
    "    indices = filtered_df.index.to_list()\n",
    "\n",
    "    dp_ig = {} # instantaneous grade\n",
    "    for index in indices:\n",
    "        date = filtered_df.iloc[index]['date']\n",
    "        dp_timeslices[date] = {}\n",
    "        \n",
    "        for element in elements:\n",
    "            if element not in dp_ig:\n",
    "                dp_ig[element] = []\n",
    "            \n",
    "            dp_ig[element].append(filtered_df[element].loc[index])\n",
    "            \n",
    "            dp_timeslices[date][element] = HetAnalysis(\n",
    "                f'{id}_{element}_{date}', \n",
    "                filtered_df['weight'].loc[:index], \n",
    "                filtered_df[element].loc[:index]\n",
    "                )\n",
    "    \n",
    "    assay_timeslices[id] = dp_timeslices\n",
    "    assay_igs[id] = dp_ig"
   ]
  },
  {
   "attachments": {},
   "cell_type": "markdown",
   "metadata": {},
   "source": [
    "## Output"
   ]
  },
  {
   "attachments": {},
   "cell_type": "markdown",
   "metadata": {},
   "source": [
    "### Individual Graphs"
   ]
  },
  {
   "cell_type": "code",
   "execution_count": 29,
   "metadata": {},
   "outputs": [
    {
     "data": {
      "image/png": "[encoded data removed]",
      "text/plain": [
       "<Figure size 720x576 with 2 Axes>"
      ]
     },
     "metadata": {
      "needs_background": "light"
     },
     "output_type": "display_data"
    }
   ],
   "source": [
    "if SAVE:\n",
    "    fig = plt.figure()\n",
    "    fig.set_size_inches(10, 8)\n",
    "    \n",
    "    for id in ids:\n",
    "        save_loc = output_dir + f'{id}/'\n",
    "        if not os.path.exists(save_loc):\n",
    "            os.makedirs(save_loc)\n",
    "            \n",
    "        pcbc_timeslice = pcbc_timeslices[id]\n",
    "        assay_timeslice = assay_timeslices[id]\n",
    "        \n",
    "        for element in elements:\n",
    "            pcbc_d, pcbc_h = [], []\n",
    "            for date, timeslice in pcbc_timeslice.items():\n",
    "                pcbc_d.append(date)\n",
    "                pcbc_h.append(timeslice[element].get_heterogeneity())\n",
    "                \n",
    "            assay_d, assay_h = [], []\n",
    "            for date, timeslice in assay_timeslice.items():\n",
    "                assay_d.append(date)\n",
    "                assay_h.append(timeslice[element].get_heterogeneity())\n",
    "                \n",
    "            fig.clear()\n",
    "            \n",
    "            ax = fig.add_subplot()\n",
    "            sec_ax = ax.twinx()\n",
    "\n",
    "            sec_ax.scatter(assay_d, assay_h, c='red', s=10)\n",
    "            sec_ax.plot(assay_d, assay_h, c='red', ls='-')\n",
    "            \n",
    "            sec_ax.scatter(pcbc_d, pcbc_h, alpha=0.4, c='red', s=10)\n",
    "            sec_ax.plot(pcbc_d, pcbc_h, alpha=0.2, c='red', ls='-')\n",
    "            \n",
    "            sec_ax.set_ylim(0)\n",
    "            sec_ax.set_ylabel('Heterogeneity', c='red')\n",
    "\n",
    "            ax.set_xlim(min(min(pcbc_d), min(assay_d)), max(max(pcbc_d), min(assay_d)))\n",
    "            ax.xaxis.set_major_locator(mdates.MonthLocator(bymonth=(1, 7)))\n",
    "            ax.xaxis.set_minor_locator(mdates.MonthLocator())\n",
    "            ax.xaxis.set_major_formatter(mdates.DateFormatter('%Y %b'))\n",
    "            ax.set_xlabel('Date')\n",
    "\n",
    "            for label in ax.get_xticklabels(which='major'):\n",
    "                label.set(rotation=45, horizontalalignment='right')\n",
    "            \n",
    "            pcbc_ig = pcbc_igs[id][element]\n",
    "            assay_ig = assay_igs[id][element]\n",
    "\n",
    "            ax.scatter(assay_d, assay_ig, c='blue', s=10)\n",
    "            ax.plot(assay_d, assay_ig, c='blue', ls='-')\n",
    "            \n",
    "            ax.scatter(pcbc_d, pcbc_ig, alpha=0.4, c='blue', s=10)\n",
    "            ax.plot(pcbc_d, pcbc_ig, alpha=0.2, c='blue', ls='-')\n",
    "\n",
    "            ax.set_ylim(0)\n",
    "            ax.set_ylabel(f'{element} Grade', c='blue')\n",
    "\n",
    "            ax.set_title(f'{id} {element} GH vs Time')\n",
    "            \n",
    "            ax.grid()\n",
    "\n",
    "            fig.tight_layout()\n",
    "            fig.savefig(save_loc + f'{id}_{element}.svg', format='svg')"
   ]
  }
 ],
 "metadata": {
  "kernelspec": {
   "display_name": "base",
   "language": "python",
   "name": "python3"
  },
  "language_info": {
   "codemirror_mode": {
    "name": "ipython",
    "version": 3
   },
   "file_extension": ".py",
   "mimetype": "text/x-python",
   "name": "python",
   "nbconvert_exporter": "python",
   "pygments_lexer": "ipython3",
   "version": "3.9.12"
  },
  "orig_nbformat": 4
 },
 "nbformat": 4,
 "nbformat_minor": 2
}
