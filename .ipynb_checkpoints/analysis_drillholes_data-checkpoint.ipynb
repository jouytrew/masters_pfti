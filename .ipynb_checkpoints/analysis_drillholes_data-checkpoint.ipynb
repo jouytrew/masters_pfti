{
 "cells": [
  {
   "cell_type": "code",
   "execution_count": 1,
   "id": "19965637",
   "metadata": {},
   "outputs": [],
   "source": [
    "import pandas as pd\n",
    "import numpy as np"
   ]
  },
  {
   "cell_type": "code",
   "execution_count": 4,
   "id": "9904ab10",
   "metadata": {},
   "outputs": [],
   "source": [
    "# We will analyse the renamed \"dmlz_assay\" csv file in this notebook\n",
    "DH_ROOT = 'data/ptfi_2/dh_and_bm_data/drillholes/'\n",
    "\n",
    "assay = pd.read_csv(DH_ROOT + 'assay.csv')\n",
    "bf = pd.read_csv(DH_ROOT + 'bulk_factor.csv')\n",
    "bulk = pd.read_csv(DH_ROOT + 'bulk.csv')\n",
    "collar = pd.read_csv(DH_ROOT + 'collar.csv')\n",
    "survey = pd.read_csv(DH_ROOT + 'survey.csv')"
   ]
  },
  {
   "cell_type": "markdown",
   "id": "a70f19eb",
   "metadata": {},
   "source": [
    "# Assay\n",
    "we can see a full dataset for assay.csv"
   ]
  },
  {
   "cell_type": "code",
   "execution_count": 9,
   "id": "8d17261e",
   "metadata": {
    "scrolled": false
   },
   "outputs": [
    {
     "data": {
      "text/plain": [
       "HOLEID    132209\n",
       "FROM      132209\n",
       "TO        132209\n",
       "INTLEN    132209\n",
       "SAMPID    132209\n",
       "CU        132209\n",
       "AU        132209\n",
       "AG        132209\n",
       "dtype: int64"
      ]
     },
     "execution_count": 9,
     "metadata": {},
     "output_type": "execute_result"
    }
   ],
   "source": [
    "assay.count()"
   ]
  },
  {
   "cell_type": "code",
   "execution_count": null,
   "id": "bcbbc5f0",
   "metadata": {},
   "outputs": [],
   "source": []
  },
  {
   "cell_type": "code",
   "execution_count": null,
   "id": "8e170796",
   "metadata": {},
   "outputs": [],
   "source": []
  },
  {
   "cell_type": "markdown",
   "id": "5f077a38",
   "metadata": {},
   "source": [
    "# Bulk Factor\n",
    "A full dataset with the exception of 'BITSIZ', missing a hundred or so values. These values are missing in 3 spots, and seem to be consecutive. Not sure why they are missing."
   ]
  },
  {
   "cell_type": "code",
   "execution_count": 10,
   "id": "689ab36e",
   "metadata": {
    "scrolled": false
   },
   "outputs": [
    {
     "data": {
      "text/plain": [
       "HOLEID    193353\n",
       "FROM      193353\n",
       "TO        193353\n",
       "INTLEN    193353\n",
       "BITSIZ    193234\n",
       "RECOV     193353\n",
       "BULK_F    193353\n",
       "dtype: int64"
      ]
     },
     "execution_count": 10,
     "metadata": {},
     "output_type": "execute_result"
    }
   ],
   "source": [
    "bf.count()"
   ]
  },
  {
   "cell_type": "code",
   "execution_count": 43,
   "id": "e2c85b3e",
   "metadata": {},
   "outputs": [
    {
     "name": "stdout",
     "output_type": "stream",
     "text": [
      "- i: 5018\n",
      "1 i:5019\n",
      "1 i:5020\n",
      "1 i:5021\n",
      "1 i:5022\n",
      "1 i:5023\n",
      "1 i:5024\n",
      "1 i:5025\n",
      "1 i:5026\n",
      "1 i:5027\n",
      "81707 i:86734\n",
      "1 i:86735\n",
      "1 i:86736\n",
      "1 i:86737\n",
      "1 i:86738\n",
      "1 i:86739\n",
      "1 i:86740\n",
      "1 i:86741\n",
      "1 i:86742\n",
      "1 i:86743\n",
      "1 i:86744\n",
      "1 i:86745\n",
      "1 i:86746\n",
      "1 i:86747\n",
      "1 i:86748\n",
      "1 i:86749\n",
      "1 i:86750\n",
      "1 i:86751\n",
      "1 i:86752\n",
      "1 i:86753\n",
      "1 i:86754\n",
      "1 i:86755\n",
      "1 i:86756\n",
      "1 i:86757\n",
      "1 i:86758\n",
      "1 i:86759\n",
      "1 i:86760\n",
      "1 i:86761\n",
      "1 i:86762\n",
      "1 i:86763\n",
      "1 i:86764\n",
      "1 i:86765\n",
      "1 i:86766\n",
      "1 i:86767\n",
      "1 i:86768\n",
      "1 i:86769\n",
      "1 i:86770\n",
      "1 i:86771\n",
      "1 i:86772\n",
      "1 i:86773\n",
      "1 i:86774\n",
      "1 i:86775\n",
      "1 i:86776\n",
      "1 i:86777\n",
      "1 i:86778\n",
      "1 i:86779\n",
      "1 i:86780\n",
      "1 i:86781\n",
      "1 i:86782\n",
      "1 i:86783\n",
      "1 i:86784\n",
      "1 i:86785\n",
      "1 i:86786\n",
      "1 i:86787\n",
      "1 i:86788\n",
      "1 i:86789\n",
      "1 i:86790\n",
      "1 i:86791\n",
      "1 i:86792\n",
      "1 i:86793\n",
      "1 i:86794\n",
      "1 i:86795\n",
      "1 i:86796\n",
      "1 i:86797\n",
      "1 i:86798\n",
      "1 i:86799\n",
      "1 i:86800\n",
      "1 i:86801\n",
      "1 i:86802\n",
      "1 i:86803\n",
      "1 i:86804\n",
      "1 i:86805\n",
      "1 i:86806\n",
      "1 i:86807\n",
      "1 i:86808\n",
      "1 i:86809\n",
      "1 i:86810\n",
      "1 i:86811\n",
      "1 i:86812\n",
      "1 i:86813\n",
      "1 i:86814\n",
      "1 i:86815\n",
      "1 i:86816\n",
      "1 i:86817\n",
      "1 i:86818\n",
      "50006 i:136824\n",
      "1 i:136825\n",
      "1 i:136826\n",
      "1 i:136827\n",
      "1 i:136828\n",
      "1 i:136829\n",
      "1 i:136830\n",
      "1 i:136831\n",
      "1 i:136832\n",
      "1 i:136833\n",
      "1 i:136834\n",
      "1 i:136835\n",
      "1 i:136836\n",
      "1 i:136837\n",
      "1 i:136838\n",
      "1 i:136839\n",
      "1 i:136840\n",
      "1 i:136841\n",
      "1 i:136842\n",
      "1 i:136843\n",
      "1 i:136844\n",
      "1 i:136845\n",
      "1 i:136846\n",
      "1 i:136847\n"
     ]
    }
   ],
   "source": [
    "indices = list(bf.loc[pd.isna(bf['BITSIZ']), :].index)\n",
    "\n",
    "prev = None\n",
    "for i in indices:\n",
    "    if prev == None:\n",
    "        prev = i\n",
    "        print(f'- i: {i}')\n",
    "    else:\n",
    "        delta = i - prev\n",
    "        prev = i\n",
    "        print(f'{delta} i:{i}')"
   ]
  },
  {
   "cell_type": "markdown",
   "id": "62969477",
   "metadata": {},
   "source": [
    "# Bulk\n",
    "A full dataset for bulk.csv"
   ]
  },
  {
   "cell_type": "code",
   "execution_count": 11,
   "id": "b72ecceb",
   "metadata": {},
   "outputs": [
    {
     "data": {
      "text/plain": [
       "HOLEID    155553\n",
       "FROM      155553\n",
       "TO        155553\n",
       "INTLEN    155553\n",
       "DENSTY    155553\n",
       "dtype: int64"
      ]
     },
     "execution_count": 11,
     "metadata": {},
     "output_type": "execute_result"
    }
   ],
   "source": [
    "bulk.count()"
   ]
  },
  {
   "cell_type": "markdown",
   "id": "24dbde4f",
   "metadata": {},
   "source": [
    "# Collar\n",
    "Almost a full dataset for collar, missing a few values in 'ENDATE' and 'CORING'"
   ]
  },
  {
   "cell_type": "code",
   "execution_count": 36,
   "id": "b7c3c35e",
   "metadata": {},
   "outputs": [
    {
     "data": {
      "text/plain": [
       "HOLEID    1787\n",
       "EAST      1787\n",
       "NORTH     1787\n",
       "ELEV      1787\n",
       "TD        1787\n",
       "AZI       1787\n",
       "INCLIN    1787\n",
       "ENDATE    1741\n",
       "COMPST    1787\n",
       "PROJ      1787\n",
       "CLIENT    1787\n",
       "CORING    1752\n",
       "dtype: int64"
      ]
     },
     "execution_count": 36,
     "metadata": {},
     "output_type": "execute_result"
    }
   ],
   "source": [
    "collar.count()"
   ]
  },
  {
   "cell_type": "code",
   "execution_count": 44,
   "id": "4c25d4f1",
   "metadata": {
    "scrolled": true
   },
   "outputs": [
    {
     "name": "stdout",
     "output_type": "stream",
     "text": [
      "- i: 84\n",
      "44 i:128\n",
      "22 i:150\n",
      "44 i:194\n",
      "49 i:243\n",
      "46 i:289\n",
      "38 i:327\n",
      "81 i:408\n",
      "58 i:466\n",
      "70 i:536\n",
      "26 i:562\n",
      "12 i:574\n",
      "30 i:604\n",
      "36 i:640\n",
      "32 i:672\n",
      "24 i:696\n",
      "4 i:700\n",
      "20 i:720\n",
      "19 i:739\n",
      "18 i:757\n",
      "142 i:899\n",
      "20 i:919\n",
      "23 i:942\n",
      "1 i:943\n",
      "22 i:965\n",
      "1 i:966\n",
      "31 i:997\n",
      "35 i:1032\n",
      "417 i:1449\n",
      "1 i:1450\n",
      "1 i:1451\n",
      "39 i:1490\n",
      "1 i:1491\n",
      "1 i:1492\n",
      "36 i:1528\n",
      "33 i:1561\n",
      "1 i:1562\n",
      "34 i:1596\n",
      "42 i:1638\n",
      "25 i:1663\n",
      "13 i:1676\n",
      "10 i:1686\n",
      "13 i:1699\n",
      "1 i:1700\n",
      "13 i:1713\n",
      "53 i:1766\n"
     ]
    }
   ],
   "source": [
    "indices = list(collar.loc[pd.isna(collar['ENDATE']), :].index)\n",
    "\n",
    "prev = None\n",
    "for i in indices:\n",
    "    if prev == None:\n",
    "        prev = i\n",
    "        print(f'- i: {i}')\n",
    "    else:\n",
    "        delta = i - prev\n",
    "        prev = i\n",
    "        print(f'{delta} i:{i}')"
   ]
  },
  {
   "cell_type": "code",
   "execution_count": 45,
   "id": "3073c918",
   "metadata": {
    "scrolled": true
   },
   "outputs": [
    {
     "name": "stdout",
     "output_type": "stream",
     "text": [
      "- i: 84\n",
      "44 i:128\n",
      "22 i:150\n",
      "44 i:194\n",
      "49 i:243\n",
      "3 i:246\n",
      "43 i:289\n",
      "38 i:327\n",
      "139 i:466\n",
      "70 i:536\n",
      "38 i:574\n",
      "325 i:899\n",
      "20 i:919\n",
      "23 i:942\n",
      "1 i:943\n",
      "23 i:966\n",
      "31 i:997\n",
      "35 i:1032\n",
      "417 i:1449\n",
      "1 i:1450\n",
      "1 i:1451\n",
      "39 i:1490\n",
      "1 i:1491\n",
      "1 i:1492\n",
      "36 i:1528\n",
      "33 i:1561\n",
      "1 i:1562\n",
      "34 i:1596\n",
      "67 i:1663\n",
      "13 i:1676\n",
      "10 i:1686\n",
      "13 i:1699\n",
      "1 i:1700\n",
      "13 i:1713\n",
      "53 i:1766\n"
     ]
    }
   ],
   "source": [
    "indices = list(collar.loc[pd.isna(collar['CORING']), :].index)\n",
    "\n",
    "prev = None\n",
    "for i in indices:\n",
    "    if prev == None:\n",
    "        prev = i\n",
    "        print(f'- i: {i}')\n",
    "    else:\n",
    "        delta = i - prev\n",
    "        prev = i\n",
    "        print(f'{delta} i:{i}')"
   ]
  },
  {
   "cell_type": "markdown",
   "id": "14de9505",
   "metadata": {},
   "source": [
    "# Survey\n",
    "A full dataset for survey"
   ]
  },
  {
   "cell_type": "code",
   "execution_count": 42,
   "id": "f5741f7e",
   "metadata": {},
   "outputs": [
    {
     "data": {
      "text/plain": [
       "HOLEID    121038\n",
       "DEPTH     121038\n",
       "AZIM      121038\n",
       "DIP       121038\n",
       "METD      121038\n",
       "dtype: int64"
      ]
     },
     "execution_count": 42,
     "metadata": {},
     "output_type": "execute_result"
    }
   ],
   "source": [
    "survey.count()"
   ]
  },
  {
   "cell_type": "code",
   "execution_count": null,
   "id": "e7812545",
   "metadata": {},
   "outputs": [],
   "source": []
  }
 ],
 "metadata": {
  "kernelspec": {
   "display_name": "Python 3 (ipykernel)",
   "language": "python",
   "name": "python3"
  },
  "language_info": {
   "codemirror_mode": {
    "name": "ipython",
    "version": 3
   },
   "file_extension": ".py",
   "mimetype": "text/x-python",
   "name": "python",
   "nbconvert_exporter": "python",
   "pygments_lexer": "ipython3",
   "version": "3.9.12"
  }
 },
 "nbformat": 4,
 "nbformat_minor": 5
}
